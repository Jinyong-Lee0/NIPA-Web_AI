{
 "cells": [
  {
   "cell_type": "code",
   "execution_count": 7,
   "metadata": {},
   "outputs": [
    {
     "name": "stdout",
     "output_type": "stream",
     "text": [
      "학생이름 : 이호창\n",
      "점수 : 50\n",
      "학점 : F\n"
     ]
    }
   ],
   "source": [
    "# Q1. 학점 변환기\n",
    "\n",
    "name = str(input())\n",
    "score = int(input())\n",
    "credit = [\"A+\", \"A\", \"B+\", \"B\", \"C+\", \"C\", \"D+\", \"D\", \"F\"]\n",
    "findCredit = 94\n",
    "\n",
    "def hisCredit(score, findCredit):\n",
    "    for i in range(0, 8) :\n",
    "        if score > findCredit:\n",
    "            return print(f\"학생이름 : {name} \\n \" +\n",
    "                        f\"점수 : {score} \\n \" + \n",
    "                        f\"학점 : {credit[i]}\")\n",
    "        else:\n",
    "            findCredit -= 5\n",
    "    return print(f\"학생이름 : {name} \\n \" +\n",
    "                f\"점수 : {score} \\n \" + \n",
    "                f\"학점 : {credit[8]}\")"
   ]
  },
  {
   "cell_type": "code",
   "execution_count": 11,
   "metadata": {},
   "outputs": [
    {
     "name": "stdout",
     "output_type": "stream",
     "text": [
      "세전 연봉 : 600000\n",
      "세후 연봉 : 348000\n"
     ]
    }
   ],
   "source": [
    "# Q2. 연봉 계산기\n",
    "\n",
    "tax_criteria = [1200, 4600, 8800, 15000, 30000, 50000]\n",
    "tax_rate = [0.94, 0.85, 0.76, 0.65, 0.62, 0.60, 0.58]\n",
    "\n",
    "def calculator(yearly_payment) :\n",
    "    for i in range(0, len(tax_criteria)):\n",
    "        if yearly_payment <= tax_criteria[i] :\n",
    "            return printYourPayment(tax_rate[i])\n",
    "    return printYourPayment(tax_rate[6])\n",
    "\n",
    "def printYourPayment(tax_rate) :\n",
    "    print(f\"세전 연봉 : {yearly_payment}\")\n",
    "    print(f\"세후 연봉 : {int(yearly_payment * tax_rate)}\")\n",
    "\n",
    "monthly_payment = int(input(\"당신의 월급 : \"))\n",
    "yearly_payment = monthly_payment * 12\n",
    "calculator(yearly_payment)"
   ]
  },
  {
   "cell_type": "code",
   "execution_count": 15,
   "metadata": {},
   "outputs": [
    {
     "name": "stdout",
     "output_type": "stream",
     "text": [
      "나이 : 75\n",
      "지불유형 : 카드\n",
      "버스요금 : 0원\n"
     ]
    }
   ],
   "source": [
    "# Q3. 버스요금 계산기\n",
    "\n",
    "def calculator(age, payment) :\n",
    "    if payment == \"카드\":    \n",
    "        if age < 8 or age >= 75:\n",
    "            return 0\n",
    "        elif age < 14:\n",
    "            return 450\n",
    "        elif age < 20 :\n",
    "            return 720\n",
    "        else:\n",
    "            return 1200\n",
    "    else:\n",
    "        if age < 8 or age >= 75:\n",
    "            return 0\n",
    "        elif age < 14:\n",
    "            return 450\n",
    "        elif age < 20 :\n",
    "            return 1000\n",
    "        else:\n",
    "            return 1300\n",
    "\n",
    "age = int(input(\"나이 : \"))\n",
    "payment = str(input(\"결제 방법(카드, 현금) : \"))\n",
    "\n",
    "print(f\"나이 : {age}세\")\n",
    "print(f\"지불유형 : {payment}\")\n",
    "print(f\"버스요금 : {calculator(age, payment)}원\")"
   ]
  },
  {
   "cell_type": "code",
   "execution_count": 27,
   "metadata": {},
   "outputs": [
    {
     "name": "stdout",
     "output_type": "stream",
     "text": [
      "0 : 가위 \n",
      "1 : 바위\n",
      "2 : 보\n",
      "나 : 보\n",
      "컴퓨터 : 바위\n",
      "내 승리!\n"
     ]
    }
   ],
   "source": [
    "# Q4. 컴퓨터와 가위바위보\n",
    "import random\n",
    "\n",
    "def rcfFind(whatIsThis) :\n",
    "    if whatIsThis == 0:\n",
    "        return \"가위\"\n",
    "    elif whatIsThis == 1:\n",
    "        return \"바위\"\n",
    "    else:\n",
    "        return \"보\"\n",
    "    \n",
    "def winnerFind(computer, person) :\n",
    "    if computer == person :\n",
    "        return \"비겼다!\"\n",
    "    elif (computer != 0 and computer -1 == person) \\\n",
    "            or computer == 0 and person == 2 :\n",
    "        return \"컴퓨터 승리!\"\n",
    "    else:\n",
    "        return \"내 승리!\"\n",
    "\n",
    "print(\"0 : 가위 \\n1 : 바위\\n2 : 보\")\n",
    "person = int(input(\"당신의 선택은?\"))\n",
    "computer = random.randint(0, 2)\n",
    "\n",
    "print(f\"나 : {rcfFind(person)}\")\n",
    "print(f\"컴퓨터 : {rcfFind(computer)}\")\n",
    "print(winnerFind(computer, person))"
   ]
  },
  {
   "cell_type": "code",
   "execution_count": null,
   "metadata": {},
   "outputs": [],
   "source": []
  }
 ],
 "metadata": {
  "kernelspec": {
   "display_name": "Python 3",
   "language": "python",
   "name": "python3"
  },
  "language_info": {
   "codemirror_mode": {
    "name": "ipython",
    "version": 3
   },
   "file_extension": ".py",
   "mimetype": "text/x-python",
   "name": "python",
   "nbconvert_exporter": "python",
   "pygments_lexer": "ipython3",
   "version": "3.11.4"
  },
  "orig_nbformat": 4
 },
 "nbformat": 4,
 "nbformat_minor": 2
}
